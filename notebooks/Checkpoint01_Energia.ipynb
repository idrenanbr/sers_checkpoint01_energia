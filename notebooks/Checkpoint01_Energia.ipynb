{
 "cells": [
  {
   "cell_type": "markdown",
   "id": "67d7b7a7",
   "metadata": {},
   "source": [
    "# Checkpoint 01 – Análise de Dados de Consumidores de Energia\n",
    "\n",
    "Este notebook segue os passos de exploração e análise propostos na atividade de checkpoint. Ele utiliza o dataset **Individual Household Electric Power Consumption** do UCI Machine Learning Repository (2006–2010) para responder às questões e gerar insights sobre o consumo elétrico domiciliar.\n",
    "\n",
    "Lembre-se de colocar o arquivo `household_power_consumption.txt` na raiz do repositório antes de executar as células abaixo.\n"
   ]
  },
  {
   "cell_type": "markdown",
   "id": "15236208",
   "metadata": {},
   "source": [
    "## 1. Carregar o dataset e exibir as 10 primeiras linhas"
   ]
  },
  {
   "cell_type": "code",
   "execution_count": null,
   "id": "88894431",
   "metadata": {},
   "outputs": [],
   "source": [
    "import pandas as pd\n",
    "\n",
    "# Ajuste o caminho se necessário\n",
    "file_path = 'household_power_consumption.txt'\n",
    "\n",
    "# Carregamos o arquivo; valores ausentes estão representados por '?'\n",
    "df = pd.read_csv(\n",
    "    file_path,\n",
    "    sep=';',\n",
    "    na_values='?',\n",
    "    low_memory=False\n",
    ")\n",
    "\n",
    "# Exibimos as 10 primeiras linhas\n",
    "df.head(10)\n"
   ]
  },
  {
   "cell_type": "markdown",
   "id": "3716aba8",
   "metadata": {},
   "source": [
    "## 2. Diferença entre `Global_active_power` e `Global_reactive_power`\n",
    "\n",
    "* **Global_active_power** representa a potência elétrica ativa média (kW) consumida pela residência em cada minuto. Essa é a energia efetivamente transformada em trabalho útil (como iluminação, aquecimento, eletrodomésticos etc.).\n",
    "* **Global_reactive_power** representa a potência elétrica reativa média (kVAR). Ela está associada aos campos magnéticos gerados por componentes indutivos ou capacitivos (motores, transformadores), não realizando trabalho útil — apenas circula entre a fonte e as cargas para manter os campos magnéticos.\n"
   ]
  },
  {
   "cell_type": "markdown",
   "id": "8fedd83c",
   "metadata": {},
   "source": [
    "## 3. Verificar valores ausentes no dataset"
   ]
  },
  {
   "cell_type": "code",
   "execution_count": null,
   "id": "79731253",
   "metadata": {},
   "outputs": [],
   "source": [
    "# Contar valores ausentes por coluna\n",
    "missing_counts = df.isna().sum()\n",
    "missing_counts\n"
   ]
  },
  {
   "cell_type": "markdown",
   "id": "50d45a48",
   "metadata": {},
   "source": [
    "## 4. Converter `Date` para datetime e criar coluna com o dia da semana"
   ]
  },
  {
   "cell_type": "code",
   "execution_count": null,
   "id": "22e48146",
   "metadata": {},
   "outputs": [],
   "source": [
    "# Criamos uma coluna datetime combinando Date e Time\n",
    "df['Datetime'] = pd.to_datetime(df['Date'] + ' ' + df['Time'], format='%d/%m/%Y %H:%M:%S')\n",
    "# Ajustamos o índice\n",
    "# df = df.set_index('Datetime')\n",
    "\n",
    "# Criamos a coluna com nome do dia da semana\n",
    "df['weekday'] = df['Datetime'].dt.day_name()\n",
    "\n",
    "df[['Datetime', 'weekday']].head()\n"
   ]
  },
  {
   "cell_type": "markdown",
   "id": "828cd8b6",
   "metadata": {},
   "source": [
    "## 5. Filtrar registros de 2007 e calcular a média diária de `Global_active_power`"
   ]
  },
  {
   "cell_type": "code",
   "execution_count": null,
   "id": "5cdf73e7",
   "metadata": {},
   "outputs": [],
   "source": [
    "# Converter Global_active_power para numérico\n",
    "df['Global_active_power'] = pd.to_numeric(df['Global_active_power'], errors='coerce')\n",
    "\n",
    "# Filtrar ano de 2007\n",
    "df_2007 = df[df['Datetime'].dt.year == 2007]\n",
    "\n",
    "# Calcular média diária\n",
    "daily_mean_2007 = df_2007.set_index('Datetime')['Global_active_power'].resample('D').mean()\n",
    "\n",
    "daily_mean_2007\n"
   ]
  },
  {
   "cell_type": "markdown",
   "id": "8ac76995",
   "metadata": {},
   "source": [
    "## 6. Variação de `Global_active_power` em um dia escolhido"
   ]
  },
  {
   "cell_type": "code",
   "execution_count": null,
   "id": "7eb25959",
   "metadata": {},
   "outputs": [],
   "source": [
    "import matplotlib.pyplot as plt\n",
    "\n",
    "# Selecionamos um dia com dados completos (ex.: 15 de março de 2008)\n",
    "day = df[(df['Datetime'].dt.date == pd.to_datetime('2008-03-15').date())].copy()\n",
    "\n",
    "plt.figure()\n",
    "day['Global_active_power'].plot()\n",
    "plt.title('Global Active Power em 15/03/2008')\n",
    "plt.xlabel('Horário')\n",
    "plt.ylabel('Potência Ativa Global (kW)')\n",
    "plt.show()\n"
   ]
  },
  {
   "cell_type": "markdown",
   "id": "1ff7b340",
   "metadata": {},
   "source": [
    "## 7. Histograma da variável `Voltage`"
   ]
  },
  {
   "cell_type": "code",
   "execution_count": null,
   "id": "4b3425b2",
   "metadata": {},
   "outputs": [],
   "source": [
    "# Converter Voltage para numérico\n",
    "df['Voltage'] = pd.to_numeric(df['Voltage'], errors='coerce')\n",
    "\n",
    "plt.figure()\n",
    "df['Voltage'].hist(bins=100)\n",
    "plt.title('Histograma de Voltage')\n",
    "plt.xlabel('Voltage (V)')\n",
    "plt.ylabel('Frequência')\n",
    "plt.show()\n",
    "\n",
    "# Estatísticas descritivas\n",
    "df['Voltage'].describe()\n"
   ]
  },
  {
   "cell_type": "markdown",
   "id": "0eb73505",
   "metadata": {},
   "source": [
    "## 8. Consumo médio mensal ao longo de todo o período"
   ]
  },
  {
   "cell_type": "code",
   "execution_count": null,
   "id": "fbd25340",
   "metadata": {},
   "outputs": [],
   "source": [
    "# Calcular média mensal de Global_active_power\n",
    "monthly_mean = df.set_index('Datetime')['Global_active_power'].resample('M').mean()\n",
    "\n",
    "monthly_mean\n"
   ]
  },
  {
   "cell_type": "markdown",
   "id": "5eca3475",
   "metadata": {},
   "source": [
    "## 9. Dia com maior consumo de energia ativa global"
   ]
  },
  {
   "cell_type": "code",
   "execution_count": null,
   "id": "253f05db",
   "metadata": {},
   "outputs": [],
   "source": [
    "# Soma diária de Global_active_power\n",
    "daily_sum = df.set_index('Datetime')['Global_active_power'].resample('D').sum()\n",
    "\n",
    "max_day = daily_sum.idxmax()\n",
    "max_value = daily_sum.max()\n",
    "\n",
    "max_day, max_value\n"
   ]
  },
  {
   "cell_type": "markdown",
   "id": "5d49a5b7",
   "metadata": {},
   "source": [
    "## 10. Comparação do consumo médio entre dias de semana e finais de semana"
   ]
  },
  {
   "cell_type": "code",
   "execution_count": null,
   "id": "4ac50a17",
   "metadata": {},
   "outputs": [],
   "source": [
    "# Classificação de fim de semana\n",
    "is_weekend = df['Datetime'].dt.weekday >= 5\n",
    "\n",
    "weekday_mean = df.loc[~is_weekend, 'Global_active_power'].mean()\n",
    "weekend_mean = df.loc[is_weekend, 'Global_active_power'].mean()\n",
    "\n",
    "weekday_mean, weekend_mean\n"
   ]
  },
  {
   "cell_type": "markdown",
   "id": "8184dab6",
   "metadata": {},
   "source": [
    "## 11. Correlação entre variáveis selecionadas"
   ]
  },
  {
   "cell_type": "code",
   "execution_count": null,
   "id": "416cd647",
   "metadata": {},
   "outputs": [],
   "source": [
    "# Selecionamos as colunas de interesse\n",
    "df['Global_reactive_power'] = pd.to_numeric(df['Global_reactive_power'], errors='coerce')\n",
    "df['Global_intensity'] = pd.to_numeric(df['Global_intensity'], errors='coerce')\n",
    "\n",
    "corr_matrix = df[['Global_active_power', 'Global_reactive_power', 'Voltage', 'Global_intensity']].corr()\n",
    "corr_matrix\n"
   ]
  },
  {
   "cell_type": "markdown",
   "id": "7943199e",
   "metadata": {},
   "source": [
    "## 12. Nova variável `Total_Sub_metering`"
   ]
  },
  {
   "cell_type": "code",
   "execution_count": null,
   "id": "c0b40fd0",
   "metadata": {},
   "outputs": [],
   "source": [
    "# Converter sub_metering para numérico\n",
    "df['Sub_metering_1'] = pd.to_numeric(df['Sub_metering_1'], errors='coerce')\n",
    "df['Sub_metering_2'] = pd.to_numeric(df['Sub_metering_2'], errors='coerce')\n",
    "df['Sub_metering_3'] = pd.to_numeric(df['Sub_metering_3'], errors='coerce')\n",
    "\n",
    "# Criar a soma\n",
    "\n",
    "df['Total_Sub_metering'] = df[['Sub_metering_1', 'Sub_metering_2', 'Sub_metering_3']].sum(axis=1)\n",
    "\n",
    "df['Total_Sub_metering'].head()\n"
   ]
  },
  {
   "cell_type": "markdown",
   "id": "f0b123c5",
   "metadata": {},
   "source": [
    "## 13. Meses em que `Total_Sub_metering` ultrapassa a média de `Global_active_power`"
   ]
  },
  {
   "cell_type": "code",
   "execution_count": null,
   "id": "d3cf9449",
   "metadata": {},
   "outputs": [],
   "source": [
    "monthly_tot_sub = df.set_index('Datetime')['Total_Sub_metering'].resample('M').mean()\n",
    "monthly_ga = df.set_index('Datetime')['Global_active_power'].resample('M').mean()\n",
    "exceed_months = monthly_tot_sub[monthly_tot_sub > monthly_ga]\n",
    "exceed_months\n"
   ]
  },
  {
   "cell_type": "markdown",
   "id": "f38815ea",
   "metadata": {},
   "source": [
    "## 14. Série temporal do `Voltage` para o ano de 2008"
   ]
  },
  {
   "cell_type": "code",
   "execution_count": null,
   "id": "614c4456",
   "metadata": {},
   "outputs": [],
   "source": [
    "voltage_2008 = df[df['Datetime'].dt.year == 2008].set_index('Datetime')['Voltage']\n",
    "\n",
    "plt.figure()\n",
    "voltage_2008.plot()\n",
    "plt.title('Voltage em 2008')\n",
    "plt.xlabel('Data')\n",
    "plt.ylabel('Voltage (V)')\n",
    "plt.show()\n"
   ]
  },
  {
   "cell_type": "markdown",
   "id": "f4b0dd6a",
   "metadata": {},
   "source": [
    "## 15. Comparação do consumo entre meses de verão e inverno (hemisfério norte)"
   ]
  },
  {
   "cell_type": "code",
   "execution_count": null,
   "id": "7908f549",
   "metadata": {},
   "outputs": [],
   "source": [
    "summer_mean = df[df['Datetime'].dt.month.isin([6,7,8])]['Global_active_power'].mean()\n",
    "winter_mean = df[df['Datetime'].dt.month.isin([12,1,2])]['Global_active_power'].mean()\n",
    "\n",
    "summer_mean, winter_mean\n"
   ]
  },
  {
   "cell_type": "markdown",
   "id": "27e4fac0",
   "metadata": {},
   "source": [
    "## 16. Amostragem aleatória de 1% e comparação da distribuição de `Global_active_power`"
   ]
  },
  {
   "cell_type": "code",
   "execution_count": null,
   "id": "168785f1",
   "metadata": {},
   "outputs": [],
   "source": [
    "sample_df = df.sample(frac=0.01, random_state=42)\n",
    "\n",
    "# Estatísticas descritivas\n",
    "df['Global_active_power'].describe(), sample_df['Global_active_power'].describe()\n",
    "\n",
    "# (Opcional) Histograma comparativo\n",
    "import numpy as np\n",
    "\n",
    "plt.figure()\n",
    "\n",
    "# histograma da base completa\n",
    "plt.hist(df['Global_active_power'].dropna(), bins=100, density=True, alpha=0.5, label='Completa')\n",
    "# histograma da amostra\n",
    "plt.hist(sample_df['Global_active_power'].dropna(), bins=100, density=True, alpha=0.5, label='Amostra 1%')\n",
    "plt.legend()\n",
    "plt.title('Comparação de distribuições: completa vs amostra 1%')\n",
    "plt.xlabel('Global Active Power (kW)')\n",
    "plt.ylabel('Densidade')\n",
    "plt.show()\n"
   ]
  },
  {
   "cell_type": "markdown",
   "id": "ae8d165f",
   "metadata": {},
   "source": [
    "## 17. Normalização (Min-Max Scaling) das variáveis numéricas principais"
   ]
  },
  {
   "cell_type": "code",
   "execution_count": null,
   "id": "8f7806b6",
   "metadata": {},
   "outputs": [],
   "source": [
    "from sklearn.preprocessing import MinMaxScaler\n",
    "\n",
    "numeric_cols = ['Global_active_power', 'Global_reactive_power', 'Voltage', 'Global_intensity',\n",
    "               'Sub_metering_1', 'Sub_metering_2', 'Sub_metering_3', 'Total_Sub_metering']\n",
    "\n",
    "scaler = MinMaxScaler()\n",
    "# Preencher NaNs com 0 antes de ajustar\n",
    "scaled_data = scaler.fit_transform(df[numeric_cols].fillna(0))\n",
    "scaled_df = pd.DataFrame(scaled_data, columns=numeric_cols)\n",
    "\n",
    "scaled_df.describe().loc[['min','max','mean','std']]\n"
   ]
  },
  {
   "cell_type": "markdown",
   "id": "d33bff20",
   "metadata": {},
   "source": [
    "## 18. K-means para segmentar dias em 3 grupos de consumo"
   ]
  },
  {
   "cell_type": "code",
   "execution_count": null,
   "id": "00b86a3c",
   "metadata": {},
   "outputs": [],
   "source": [
    "from sklearn.cluster import KMeans\n",
    "\n",
    "# Agregar dados por dia\n",
    "daily_features = pd.DataFrame({\n",
    "    'mean_ga': df.set_index('Datetime')['Global_active_power'].resample('D').mean(),\n",
    "    'mean_gr': df.set_index('Datetime')['Global_reactive_power'].resample('D').mean(),\n",
    "    'mean_intensity': df.set_index('Datetime')['Global_intensity'].resample('D').mean(),\n",
    "    'sum_sub': df.set_index('Datetime')['Total_Sub_metering'].resample('D').sum(),\n",
    "}).dropna()\n",
    "\n",
    "kmeans = KMeans(n_clusters=3, random_state=42)\n",
    "labels = kmeans.fit_predict(daily_features)\n",
    "daily_features['cluster'] = labels\n",
    "\n",
    "cluster_counts = daily_features['cluster'].value_counts()\n",
    "centers = pd.DataFrame(kmeans.cluster_centers_, columns=daily_features.columns[:-1])\n",
    "\n",
    "cluster_counts, centers\n"
   ]
  },
  {
   "cell_type": "markdown",
   "id": "967446d5",
   "metadata": {},
   "source": [
    "## 19. Decomposição de série temporal (tendência, sazonalidade e resíduo)"
   ]
  },
  {
   "cell_type": "code",
   "execution_count": null,
   "id": "9a9495f9",
   "metadata": {},
   "outputs": [],
   "source": [
    "from statsmodels.tsa.seasonal import seasonal_decompose\n",
    "\n",
    "# Selecionar seis meses de dados (jan–jun 2007) e agregar por dia\n",
    "half_year = df[(df['Datetime'] >= '2007-01-01') & (df['Datetime'] <= '2007-06-30')]\n",
    "series = half_year.set_index('Datetime')['Global_active_power'].resample('D').mean().dropna()\n",
    "\n",
    "result = seasonal_decompose(series, model='additive', period=7)\n",
    "result.plot()\n",
    "plt.suptitle('Decomposição sazonal da Global Active Power (jan–jun 2007)')\n",
    "plt.show()\n"
   ]
  },
  {
   "cell_type": "markdown",
   "id": "819f9e5a",
   "metadata": {},
   "source": [
    "## 20. Regressão linear simples para prever `Global_active_power` a partir de `Global_intensity`"
   ]
  },
  {
   "cell_type": "code",
   "execution_count": null,
   "id": "e9f7266f",
   "metadata": {},
   "outputs": [],
   "source": [
    "from sklearn.model_selection import train_test_split\n",
    "from sklearn.linear_model import LinearRegression\n",
    "from sklearn.metrics import mean_squared_error, mean_absolute_error\n",
    "\n",
    "# Selecionar linhas válidas\n",
    "valid = df[['Global_active_power', 'Global_intensity']].dropna()\n",
    "X = valid[['Global_intensity']]\n",
    "y = valid['Global_active_power']\n",
    "\n",
    "X_train, X_test, y_train, y_test = train_test_split(X, y, test_size=0.2, random_state=42)\n",
    "\n",
    "lr = LinearRegression()\n",
    "lr.fit(X_train, y_train)\n",
    "\n",
    "preds = lr.predict(X_test)\n",
    "\n",
    "rmse = mean_squared_error(y_test, preds, squared=False)\n",
    "mae = mean_absolute_error(y_test, preds)\n",
    "r2 = lr.score(X_test, y_test)\n",
    "\n",
    "coefficient, intercept = lr.coef_[0], lr.intercept_\n",
    "\n",
    "coefficient, intercept, rmse, mae, r2\n"
   ]
  }
 ],
 "metadata": {},
 "nbformat": 4,
 "nbformat_minor": 5
}
